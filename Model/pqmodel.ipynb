{
 "cells": [
  {
   "cell_type": "code",
   "execution_count": 9,
   "metadata": {},
   "outputs": [],
   "source": [
    "import numpy as np\n",
    "import pyarrow as pa\n",
    "import nanopq \n",
    "import json"
   ]
  },
  {
   "cell_type": "code",
   "execution_count": 5,
   "metadata": {},
   "outputs": [],
   "source": [
    "embeddings = np.load('embeddingscomb.npy')"
   ]
  },
  {
   "cell_type": "code",
   "execution_count": 7,
   "metadata": {},
   "outputs": [
    {
     "name": "stdout",
     "output_type": "stream",
     "text": [
      "M: 48, Ks: 128, metric : <class 'numpy.uint8'>, code_dtype: l2\n",
      "iter: 50, seed: 123\n",
      "Training the subspace: 0 / 48\n",
      "Training the subspace: 1 / 48\n",
      "Training the subspace: 2 / 48\n",
      "Training the subspace: 3 / 48\n",
      "Training the subspace: 4 / 48\n",
      "Training the subspace: 5 / 48\n",
      "Training the subspace: 6 / 48\n",
      "Training the subspace: 7 / 48\n",
      "Training the subspace: 8 / 48\n",
      "Training the subspace: 9 / 48\n",
      "Training the subspace: 10 / 48\n",
      "Training the subspace: 11 / 48\n",
      "Training the subspace: 12 / 48\n",
      "Training the subspace: 13 / 48\n",
      "Training the subspace: 14 / 48\n",
      "Training the subspace: 15 / 48\n",
      "Training the subspace: 16 / 48\n",
      "Training the subspace: 17 / 48\n",
      "Training the subspace: 18 / 48\n",
      "Training the subspace: 19 / 48\n",
      "Training the subspace: 20 / 48\n",
      "Training the subspace: 21 / 48\n",
      "Training the subspace: 22 / 48\n",
      "Training the subspace: 23 / 48\n",
      "Training the subspace: 24 / 48\n",
      "Training the subspace: 25 / 48\n",
      "Training the subspace: 26 / 48\n",
      "Training the subspace: 27 / 48\n",
      "Training the subspace: 28 / 48\n",
      "Training the subspace: 29 / 48\n",
      "Training the subspace: 30 / 48\n",
      "Training the subspace: 31 / 48\n",
      "Training the subspace: 32 / 48\n",
      "Training the subspace: 33 / 48\n",
      "Training the subspace: 34 / 48\n",
      "Training the subspace: 35 / 48\n",
      "Training the subspace: 36 / 48\n",
      "Training the subspace: 37 / 48\n",
      "Training the subspace: 38 / 48\n",
      "Training the subspace: 39 / 48\n",
      "Training the subspace: 40 / 48\n",
      "Training the subspace: 41 / 48\n",
      "Training the subspace: 42 / 48\n",
      "Training the subspace: 43 / 48\n",
      "Training the subspace: 44 / 48\n",
      "Training the subspace: 45 / 48\n",
      "Training the subspace: 46 / 48\n",
      "Training the subspace: 47 / 48\n",
      "Encoding the subspace: 0 / 48\n",
      "Encoding the subspace: 1 / 48\n",
      "Encoding the subspace: 2 / 48\n",
      "Encoding the subspace: 3 / 48\n",
      "Encoding the subspace: 4 / 48\n",
      "Encoding the subspace: 5 / 48\n",
      "Encoding the subspace: 6 / 48\n",
      "Encoding the subspace: 7 / 48\n",
      "Encoding the subspace: 8 / 48\n",
      "Encoding the subspace: 9 / 48\n",
      "Encoding the subspace: 10 / 48\n",
      "Encoding the subspace: 11 / 48\n",
      "Encoding the subspace: 12 / 48\n",
      "Encoding the subspace: 13 / 48\n",
      "Encoding the subspace: 14 / 48\n",
      "Encoding the subspace: 15 / 48\n",
      "Encoding the subspace: 16 / 48\n",
      "Encoding the subspace: 17 / 48\n",
      "Encoding the subspace: 18 / 48\n",
      "Encoding the subspace: 19 / 48\n",
      "Encoding the subspace: 20 / 48\n",
      "Encoding the subspace: 21 / 48\n",
      "Encoding the subspace: 22 / 48\n",
      "Encoding the subspace: 23 / 48\n",
      "Encoding the subspace: 24 / 48\n",
      "Encoding the subspace: 25 / 48\n",
      "Encoding the subspace: 26 / 48\n",
      "Encoding the subspace: 27 / 48\n",
      "Encoding the subspace: 28 / 48\n",
      "Encoding the subspace: 29 / 48\n",
      "Encoding the subspace: 30 / 48\n",
      "Encoding the subspace: 31 / 48\n",
      "Encoding the subspace: 32 / 48\n",
      "Encoding the subspace: 33 / 48\n",
      "Encoding the subspace: 34 / 48\n",
      "Encoding the subspace: 35 / 48\n",
      "Encoding the subspace: 36 / 48\n",
      "Encoding the subspace: 37 / 48\n",
      "Encoding the subspace: 38 / 48\n",
      "Encoding the subspace: 39 / 48\n",
      "Encoding the subspace: 40 / 48\n",
      "Encoding the subspace: 41 / 48\n",
      "Encoding the subspace: 42 / 48\n",
      "Encoding the subspace: 43 / 48\n",
      "Encoding the subspace: 44 / 48\n",
      "Encoding the subspace: 45 / 48\n",
      "Encoding the subspace: 46 / 48\n",
      "Encoding the subspace: 47 / 48\n"
     ]
    }
   ],
   "source": [
    "pq48x7 = nanopq.PQ(M=48, Ks=128)\n",
    "pq48x7.fit(embeddings, iter=50)\n",
    "embedding48x7_codes = pq48x7.encode(embeddings)"
   ]
  },
  {
   "cell_type": "code",
   "execution_count": 8,
   "metadata": {},
   "outputs": [],
   "source": [
    "cw = pq48x7.codewords"
   ]
  },
  {
   "cell_type": "code",
   "execution_count": 10,
   "metadata": {},
   "outputs": [],
   "source": [
    "cwjson = json.dumps(cw.astype(np.float64).round(5).tolist(), separators=(\",\",\":\"))"
   ]
  },
  {
   "cell_type": "code",
   "execution_count": 11,
   "metadata": {},
   "outputs": [],
   "source": [
    "with open(\"codewords.json\",\"w\") as f:\n",
    "    f.write(cwjson)"
   ]
  }
 ],
 "metadata": {
  "kernelspec": {
   "display_name": "Python 3",
   "language": "python",
   "name": "python3"
  },
  "language_info": {
   "codemirror_mode": {
    "name": "ipython",
    "version": 3
   },
   "file_extension": ".py",
   "mimetype": "text/x-python",
   "name": "python",
   "nbconvert_exporter": "python",
   "pygments_lexer": "ipython3",
   "version": "3.11.8"
  }
 },
 "nbformat": 4,
 "nbformat_minor": 2
}
