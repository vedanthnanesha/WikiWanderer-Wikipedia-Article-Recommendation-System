{
 "cells": [
  {
   "cell_type": "code",
   "execution_count": 48,
   "metadata": {},
   "outputs": [],
   "source": [
    "import json\n",
    "from pathlib import Path\n",
    "import numpy as np\n",
    "import pyarrow as pa"
   ]
  },
  {
   "cell_type": "code",
   "execution_count": 49,
   "metadata": {},
   "outputs": [],
   "source": [
    "codewords = np.array(json.loads(Path(\"codewords.json\").read_text()), dtype=np.float32)"
   ]
  },
  {
   "cell_type": "code",
   "execution_count": 50,
   "metadata": {},
   "outputs": [],
   "source": [
    "input_path = 'embeddings.arrow'\n",
    "\n",
    "table = pa.ipc.open_file(input_path).read_all()\n",
    "\n",
    "df = table.to_pandas()\n",
    "\n",
    "embeddings = df.to_numpy()"
   ]
  },
  {
   "cell_type": "code",
   "execution_count": 51,
   "metadata": {},
   "outputs": [
    {
     "data": {
      "text/plain": [
       "array([[ 19, 109, 105, ...,  98,  87,  38],\n",
       "       [  0,  42,  57, ...,  38,  35,   9],\n",
       "       [ 12,   8,  54, ...,  22,  40,  38],\n",
       "       ...,\n",
       "       [ 28, 101,  45, ...,  56,  24, 107],\n",
       "       [ 46,  84, 118, ...,  28, 104,  47],\n",
       "       [ 64,  61,  20, ..., 101,  75,  47]])"
      ]
     },
     "execution_count": 51,
     "metadata": {},
     "output_type": "execute_result"
    }
   ],
   "source": [
    "embeddings"
   ]
  },
  {
   "cell_type": "code",
   "execution_count": 52,
   "metadata": {},
   "outputs": [],
   "source": [
    "input_path = 'titles.arrow'\n",
    "\n",
    "table1 = pa.ipc.open_file(input_path).read_all()\n",
    "\n",
    "df1 = table1.to_pandas()\n",
    "\n",
    "titles = df1.to_numpy()"
   ]
  },
  {
   "cell_type": "code",
   "execution_count": 53,
   "metadata": {},
   "outputs": [
    {
     "data": {
      "text/plain": [
       "array([['List of Supernatural and The Winchesters characters'],\n",
       "       ['List of characters in mythology novels by Rick Riordan'],\n",
       "       ['1943 Birthday Honours'],\n",
       "       ...,\n",
       "       ['List of fictional alien species: W'],\n",
       "       ['List of fictional alien species: X'],\n",
       "       ['List of fictional alien species: Y']], dtype=object)"
      ]
     },
     "execution_count": 53,
     "metadata": {},
     "output_type": "execute_result"
    }
   ],
   "source": [
    "titles"
   ]
  },
  {
   "cell_type": "code",
   "execution_count": 54,
   "metadata": {},
   "outputs": [
    {
     "name": "stderr",
     "output_type": "stream",
     "text": [
      "/Library/Frameworks/Python.framework/Versions/3.11/lib/python3.11/site-packages/huggingface_hub/file_download.py:1132: FutureWarning: `resume_download` is deprecated and will be removed in version 1.0.0. Downloads always resume when possible. If you want to force a new download, use `force_download=True`.\n",
      "  warnings.warn(\n"
     ]
    }
   ],
   "source": [
    "from sentence_transformers import SentenceTransformer\n",
    "minilml6v2 = SentenceTransformer(\"sentence-transformers/all-MiniLM-L6-v2\")"
   ]
  },
  {
   "cell_type": "code",
   "execution_count": 55,
   "metadata": {},
   "outputs": [],
   "source": [
    "illuminati_query = minilml6v2.encode(\"illuminati\")"
   ]
  },
  {
   "cell_type": "code",
   "execution_count": 56,
   "metadata": {},
   "outputs": [
    {
     "data": {
      "text/plain": [
       "(384,)"
      ]
     },
     "execution_count": 56,
     "metadata": {},
     "output_type": "execute_result"
    }
   ],
   "source": [
    "illuminati_query.shape"
   ]
  },
  {
   "cell_type": "code",
   "execution_count": 57,
   "metadata": {},
   "outputs": [],
   "source": [
    "import nanopq"
   ]
  },
  {
   "cell_type": "code",
   "execution_count": 58,
   "metadata": {},
   "outputs": [
    {
     "name": "stdout",
     "output_type": "stream",
     "text": [
      "Number of subspaces (cwM): 48\n",
      "Number of codewords per subspace (cwKs): 128\n",
      "Dimensionality of each subspace (cwDs): 8\n"
     ]
    }
   ],
   "source": [
    "(cwM, cwKs, cwDs) = codewords.shape\n",
    "print(f\"Number of subspaces (cwM): {cwM}\")\n",
    "print(f\"Number of codewords per subspace (cwKs): {cwKs}\")\n",
    "print(f\"Dimensionality of each subspace (cwDs): {cwDs}\")"
   ]
  },
  {
   "cell_type": "code",
   "execution_count": 59,
   "metadata": {},
   "outputs": [
    {
     "name": "stdout",
     "output_type": "stream",
     "text": [
      "M: 48, Ks: 128, metric : <class 'numpy.uint8'>, code_dtype: l2\n"
     ]
    }
   ],
   "source": [
    "pq48x7 = nanopq.PQ(M=48, Ks=128)\n",
    "pq48x7.Ds = cwDs"
   ]
  },
  {
   "cell_type": "code",
   "execution_count": 60,
   "metadata": {},
   "outputs": [],
   "source": [
    "pq48x7.codewords = codewords"
   ]
  },
  {
   "cell_type": "code",
   "execution_count": 61,
   "metadata": {},
   "outputs": [
    {
     "name": "stdout",
     "output_type": "stream",
     "text": [
      "[['Illuminati (disambiguation)']\n",
      " ['Illuminati in popular culture']\n",
      " ['Illuminati (game)']\n",
      " ['Shadow government (conspiracy theory)']\n",
      " ['GURPS Illuminati']\n",
      " ['Illuminatus of Arce']\n",
      " ['The New World Order (Robertson book)']\n",
      " ['New World Order (conspiracy theory)']\n",
      " ['Illuminati (comics)']\n",
      " ['Illuminati']]\n"
     ]
    }
   ],
   "source": [
    "illuminati_dists = pq48x7.dtable(illuminati_query).adist(embeddings)\n",
    "print(titles[np.argsort(illuminati_dists)[0:10]])"
   ]
  },
  {
   "cell_type": "code",
   "execution_count": 62,
   "metadata": {},
   "outputs": [
    {
     "name": "stdout",
     "output_type": "stream",
     "text": [
      "Most Similar Articles to Was hitler misunderstood\n",
      "1. ['Young Hitler'] (Distance: 0.6662)\n",
      "2. ['Nazi analogies'] (Distance: 0.6787)\n",
      "3. [\"Hitler's War\"] (Distance: 0.6800)\n",
      "4. ['Political views of Adolf Hitler'] (Distance: 0.6952)\n",
      "5. [\"Adolf Hitler's cult of personality\"] (Distance: 0.6963)\n",
      "6. ['Sexuality of Adolf Hitler'] (Distance: 0.6990)\n",
      "7. [\"Hitler's prophecy\"] (Distance: 0.7047)\n",
      "8. [\"La part de l'autre\"] (Distance: 0.7050)\n",
      "9. ['30 January 1939 Reichstag speech'] (Distance: 0.7121)\n",
      "10. ['Adolf Hitler in popular culture'] (Distance: 0.7172)\n"
     ]
    }
   ],
   "source": [
    "def recommend_top10(article_name):\n",
    "    query = minilml6v2.encode(article_name)\n",
    "    \n",
    "\n",
    "    query_dists = pq48x7.dtable(query).adist(embeddings)\n",
    "    top10_indices = np.argsort(query_dists)[:10]\n",
    "    top10_titles = titles[top10_indices]\n",
    "    top10_distances = query_dists[top10_indices]\n",
    "\n",
    "    return top10_titles, top10_distances\n",
    "\n",
    "\n",
    "get_rec = \"Was hitler misunderstood\"\n",
    "top10_articles, top10_distances = recommend_top10(get_rec)\n",
    "\n",
    "print(f\"Most Similar Articles to {get_rec}\")\n",
    "for i, (article, distance) in enumerate(zip(top10_articles, top10_distances), 1):\n",
    "    print(f\"{i}. {article} (Distance: {distance:.4f})\")"
   ]
  }
 ],
 "metadata": {
  "kernelspec": {
   "display_name": "Python 3",
   "language": "python",
   "name": "python3"
  },
  "language_info": {
   "codemirror_mode": {
    "name": "ipython",
    "version": 3
   },
   "file_extension": ".py",
   "mimetype": "text/x-python",
   "name": "python",
   "nbconvert_exporter": "python",
   "pygments_lexer": "ipython3",
   "version": "3.11.8"
  }
 },
 "nbformat": 4,
 "nbformat_minor": 2
}
