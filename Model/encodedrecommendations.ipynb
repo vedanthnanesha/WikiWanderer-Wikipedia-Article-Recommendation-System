{
 "cells": [
  {
   "cell_type": "code",
   "execution_count": 1,
   "metadata": {},
   "outputs": [],
   "source": [
    "import pyarrow as pa\n",
    "import pandas as pd\n",
    "import numpy as np"
   ]
  },
  {
   "cell_type": "code",
   "execution_count": 2,
   "metadata": {},
   "outputs": [],
   "source": [
    "import json\n",
    "from pathlib import Path"
   ]
  },
  {
   "cell_type": "code",
   "execution_count": 3,
   "metadata": {},
   "outputs": [],
   "source": [
    "embedding_dfs = []\n",
    "title_dfs = []\n",
    "\n",
    "\n",
    "for i in range(33):\n",
    "    embedding_filename = \"insertpathtoarrowfiles\" \n",
    "    title_filename = \"insertpathtoarrowfiles\"\n",
    "    \n",
    "    \n",
    "    with pa.input_stream(embedding_filename) as f:\n",
    "        reader = pa.ipc.RecordBatchStreamReader(f)\n",
    "        record_batches = [batch for batch in reader]\n",
    "        tables = [pa.Table.from_batches([batch]) for batch in record_batches]\n",
    "        embedding_df = pa.concat_tables(tables).to_pandas()\n",
    "        embedding_dfs.append(embedding_df)\n",
    "    \n",
    "    \n",
    "    with pa.input_stream(title_filename) as f:\n",
    "        reader = pa.ipc.RecordBatchStreamReader(f)\n",
    "        record_batches = [batch for batch in reader]\n",
    "        tables = [pa.Table.from_batches([batch]) for batch in record_batches]\n",
    "        title_df = pa.concat_tables(tables).to_pandas()\n",
    "        title_dfs.append(title_df)\n"
   ]
  },
  {
   "cell_type": "code",
   "execution_count": 4,
   "metadata": {},
   "outputs": [],
   "source": [
    "embedding_df = pd.concat(embedding_dfs)\n",
    "title_df = pd.concat(title_dfs)"
   ]
  },
  {
   "cell_type": "code",
   "execution_count": 5,
   "metadata": {},
   "outputs": [
    {
     "data": {
      "text/html": [
       "<div>\n",
       "<style scoped>\n",
       "    .dataframe tbody tr th:only-of-type {\n",
       "        vertical-align: middle;\n",
       "    }\n",
       "\n",
       "    .dataframe tbody tr th {\n",
       "        vertical-align: top;\n",
       "    }\n",
       "\n",
       "    .dataframe thead th {\n",
       "        text-align: right;\n",
       "    }\n",
       "</style>\n",
       "<table border=\"1\" class=\"dataframe\">\n",
       "  <thead>\n",
       "    <tr style=\"text-align: right;\">\n",
       "      <th></th>\n",
       "      <th>embedding</th>\n",
       "    </tr>\n",
       "  </thead>\n",
       "  <tbody>\n",
       "    <tr>\n",
       "      <th>0</th>\n",
       "      <td>19</td>\n",
       "    </tr>\n",
       "    <tr>\n",
       "      <th>1</th>\n",
       "      <td>109</td>\n",
       "    </tr>\n",
       "    <tr>\n",
       "      <th>2</th>\n",
       "      <td>105</td>\n",
       "    </tr>\n",
       "    <tr>\n",
       "      <th>3</th>\n",
       "      <td>38</td>\n",
       "    </tr>\n",
       "    <tr>\n",
       "      <th>4</th>\n",
       "      <td>61</td>\n",
       "    </tr>\n",
       "    <tr>\n",
       "      <th>...</th>\n",
       "      <td>...</td>\n",
       "    </tr>\n",
       "    <tr>\n",
       "      <th>9299467</th>\n",
       "      <td>30</td>\n",
       "    </tr>\n",
       "    <tr>\n",
       "      <th>9299468</th>\n",
       "      <td>90</td>\n",
       "    </tr>\n",
       "    <tr>\n",
       "      <th>9299469</th>\n",
       "      <td>101</td>\n",
       "    </tr>\n",
       "    <tr>\n",
       "      <th>9299470</th>\n",
       "      <td>75</td>\n",
       "    </tr>\n",
       "    <tr>\n",
       "      <th>9299471</th>\n",
       "      <td>47</td>\n",
       "    </tr>\n",
       "  </tbody>\n",
       "</table>\n",
       "<p>316499472 rows × 1 columns</p>\n",
       "</div>"
      ],
      "text/plain": [
       "         embedding\n",
       "0               19\n",
       "1              109\n",
       "2              105\n",
       "3               38\n",
       "4               61\n",
       "...            ...\n",
       "9299467         30\n",
       "9299468         90\n",
       "9299469        101\n",
       "9299470         75\n",
       "9299471         47\n",
       "\n",
       "[316499472 rows x 1 columns]"
      ]
     },
     "execution_count": 5,
     "metadata": {},
     "output_type": "execute_result"
    }
   ],
   "source": [
    "embedding_df"
   ]
  },
  {
   "cell_type": "code",
   "execution_count": 6,
   "metadata": {},
   "outputs": [
    {
     "data": {
      "text/html": [
       "<div>\n",
       "<style scoped>\n",
       "    .dataframe tbody tr th:only-of-type {\n",
       "        vertical-align: middle;\n",
       "    }\n",
       "\n",
       "    .dataframe tbody tr th {\n",
       "        vertical-align: top;\n",
       "    }\n",
       "\n",
       "    .dataframe thead th {\n",
       "        text-align: right;\n",
       "    }\n",
       "</style>\n",
       "<table border=\"1\" class=\"dataframe\">\n",
       "  <thead>\n",
       "    <tr style=\"text-align: right;\">\n",
       "      <th></th>\n",
       "      <th>title</th>\n",
       "    </tr>\n",
       "  </thead>\n",
       "  <tbody>\n",
       "    <tr>\n",
       "      <th>0</th>\n",
       "      <td>List of Supernatural and The Winchesters chara...</td>\n",
       "    </tr>\n",
       "    <tr>\n",
       "      <th>1</th>\n",
       "      <td>List of characters in mythology novels by Rick...</td>\n",
       "    </tr>\n",
       "    <tr>\n",
       "      <th>2</th>\n",
       "      <td>1943 Birthday Honours</td>\n",
       "    </tr>\n",
       "    <tr>\n",
       "      <th>3</th>\n",
       "      <td>List of people from Illinois</td>\n",
       "    </tr>\n",
       "    <tr>\n",
       "      <th>4</th>\n",
       "      <td>List of Pokémon anime characters</td>\n",
       "    </tr>\n",
       "    <tr>\n",
       "      <th>...</th>\n",
       "      <td>...</td>\n",
       "    </tr>\n",
       "    <tr>\n",
       "      <th>193734</th>\n",
       "      <td>List of fictional alien species: U</td>\n",
       "    </tr>\n",
       "    <tr>\n",
       "      <th>193735</th>\n",
       "      <td>List of fictional alien species: V</td>\n",
       "    </tr>\n",
       "    <tr>\n",
       "      <th>193736</th>\n",
       "      <td>List of fictional alien species: W</td>\n",
       "    </tr>\n",
       "    <tr>\n",
       "      <th>193737</th>\n",
       "      <td>List of fictional alien species: X</td>\n",
       "    </tr>\n",
       "    <tr>\n",
       "      <th>193738</th>\n",
       "      <td>List of fictional alien species: Y</td>\n",
       "    </tr>\n",
       "  </tbody>\n",
       "</table>\n",
       "<p>6593739 rows × 1 columns</p>\n",
       "</div>"
      ],
      "text/plain": [
       "                                                    title\n",
       "0       List of Supernatural and The Winchesters chara...\n",
       "1       List of characters in mythology novels by Rick...\n",
       "2                                   1943 Birthday Honours\n",
       "3                            List of people from Illinois\n",
       "4                        List of Pokémon anime characters\n",
       "...                                                   ...\n",
       "193734                 List of fictional alien species: U\n",
       "193735                 List of fictional alien species: V\n",
       "193736                 List of fictional alien species: W\n",
       "193737                 List of fictional alien species: X\n",
       "193738                 List of fictional alien species: Y\n",
       "\n",
       "[6593739 rows x 1 columns]"
      ]
     },
     "execution_count": 6,
     "metadata": {},
     "output_type": "execute_result"
    }
   ],
   "source": [
    "title_df"
   ]
  },
  {
   "cell_type": "code",
   "execution_count": 7,
   "metadata": {},
   "outputs": [],
   "source": [
    "embedding_df.reset_index(drop=True, inplace=True)\n",
    "title_df.reset_index(drop=True, inplace=True)"
   ]
  },
  {
   "cell_type": "code",
   "execution_count": 8,
   "metadata": {},
   "outputs": [
    {
     "data": {
      "text/html": [
       "<div>\n",
       "<style scoped>\n",
       "    .dataframe tbody tr th:only-of-type {\n",
       "        vertical-align: middle;\n",
       "    }\n",
       "\n",
       "    .dataframe tbody tr th {\n",
       "        vertical-align: top;\n",
       "    }\n",
       "\n",
       "    .dataframe thead th {\n",
       "        text-align: right;\n",
       "    }\n",
       "</style>\n",
       "<table border=\"1\" class=\"dataframe\">\n",
       "  <thead>\n",
       "    <tr style=\"text-align: right;\">\n",
       "      <th></th>\n",
       "      <th>embedding</th>\n",
       "    </tr>\n",
       "  </thead>\n",
       "  <tbody>\n",
       "    <tr>\n",
       "      <th>0</th>\n",
       "      <td>19</td>\n",
       "    </tr>\n",
       "    <tr>\n",
       "      <th>1</th>\n",
       "      <td>109</td>\n",
       "    </tr>\n",
       "    <tr>\n",
       "      <th>2</th>\n",
       "      <td>105</td>\n",
       "    </tr>\n",
       "    <tr>\n",
       "      <th>3</th>\n",
       "      <td>38</td>\n",
       "    </tr>\n",
       "    <tr>\n",
       "      <th>4</th>\n",
       "      <td>61</td>\n",
       "    </tr>\n",
       "    <tr>\n",
       "      <th>...</th>\n",
       "      <td>...</td>\n",
       "    </tr>\n",
       "    <tr>\n",
       "      <th>316499467</th>\n",
       "      <td>30</td>\n",
       "    </tr>\n",
       "    <tr>\n",
       "      <th>316499468</th>\n",
       "      <td>90</td>\n",
       "    </tr>\n",
       "    <tr>\n",
       "      <th>316499469</th>\n",
       "      <td>101</td>\n",
       "    </tr>\n",
       "    <tr>\n",
       "      <th>316499470</th>\n",
       "      <td>75</td>\n",
       "    </tr>\n",
       "    <tr>\n",
       "      <th>316499471</th>\n",
       "      <td>47</td>\n",
       "    </tr>\n",
       "  </tbody>\n",
       "</table>\n",
       "<p>316499472 rows × 1 columns</p>\n",
       "</div>"
      ],
      "text/plain": [
       "           embedding\n",
       "0                 19\n",
       "1                109\n",
       "2                105\n",
       "3                 38\n",
       "4                 61\n",
       "...              ...\n",
       "316499467         30\n",
       "316499468         90\n",
       "316499469        101\n",
       "316499470         75\n",
       "316499471         47\n",
       "\n",
       "[316499472 rows x 1 columns]"
      ]
     },
     "execution_count": 8,
     "metadata": {},
     "output_type": "execute_result"
    }
   ],
   "source": [
    "embedding_df"
   ]
  },
  {
   "cell_type": "code",
   "execution_count": 9,
   "metadata": {},
   "outputs": [
    {
     "data": {
      "text/html": [
       "<div>\n",
       "<style scoped>\n",
       "    .dataframe tbody tr th:only-of-type {\n",
       "        vertical-align: middle;\n",
       "    }\n",
       "\n",
       "    .dataframe tbody tr th {\n",
       "        vertical-align: top;\n",
       "    }\n",
       "\n",
       "    .dataframe thead th {\n",
       "        text-align: right;\n",
       "    }\n",
       "</style>\n",
       "<table border=\"1\" class=\"dataframe\">\n",
       "  <thead>\n",
       "    <tr style=\"text-align: right;\">\n",
       "      <th></th>\n",
       "      <th>title</th>\n",
       "    </tr>\n",
       "  </thead>\n",
       "  <tbody>\n",
       "    <tr>\n",
       "      <th>0</th>\n",
       "      <td>List of Supernatural and The Winchesters chara...</td>\n",
       "    </tr>\n",
       "    <tr>\n",
       "      <th>1</th>\n",
       "      <td>List of characters in mythology novels by Rick...</td>\n",
       "    </tr>\n",
       "    <tr>\n",
       "      <th>2</th>\n",
       "      <td>1943 Birthday Honours</td>\n",
       "    </tr>\n",
       "    <tr>\n",
       "      <th>3</th>\n",
       "      <td>List of people from Illinois</td>\n",
       "    </tr>\n",
       "    <tr>\n",
       "      <th>4</th>\n",
       "      <td>List of Pokémon anime characters</td>\n",
       "    </tr>\n",
       "    <tr>\n",
       "      <th>...</th>\n",
       "      <td>...</td>\n",
       "    </tr>\n",
       "    <tr>\n",
       "      <th>6593734</th>\n",
       "      <td>List of fictional alien species: U</td>\n",
       "    </tr>\n",
       "    <tr>\n",
       "      <th>6593735</th>\n",
       "      <td>List of fictional alien species: V</td>\n",
       "    </tr>\n",
       "    <tr>\n",
       "      <th>6593736</th>\n",
       "      <td>List of fictional alien species: W</td>\n",
       "    </tr>\n",
       "    <tr>\n",
       "      <th>6593737</th>\n",
       "      <td>List of fictional alien species: X</td>\n",
       "    </tr>\n",
       "    <tr>\n",
       "      <th>6593738</th>\n",
       "      <td>List of fictional alien species: Y</td>\n",
       "    </tr>\n",
       "  </tbody>\n",
       "</table>\n",
       "<p>6593739 rows × 1 columns</p>\n",
       "</div>"
      ],
      "text/plain": [
       "                                                     title\n",
       "0        List of Supernatural and The Winchesters chara...\n",
       "1        List of characters in mythology novels by Rick...\n",
       "2                                    1943 Birthday Honours\n",
       "3                             List of people from Illinois\n",
       "4                         List of Pokémon anime characters\n",
       "...                                                    ...\n",
       "6593734                 List of fictional alien species: U\n",
       "6593735                 List of fictional alien species: V\n",
       "6593736                 List of fictional alien species: W\n",
       "6593737                 List of fictional alien species: X\n",
       "6593738                 List of fictional alien species: Y\n",
       "\n",
       "[6593739 rows x 1 columns]"
      ]
     },
     "execution_count": 9,
     "metadata": {},
     "output_type": "execute_result"
    }
   ],
   "source": [
    "title_df"
   ]
  },
  {
   "cell_type": "code",
   "execution_count": 10,
   "metadata": {},
   "outputs": [],
   "source": [
    "merged_df = title_df"
   ]
  },
  {
   "cell_type": "code",
   "execution_count": null,
   "metadata": {},
   "outputs": [],
   "source": [
    "merged_df['Embeddings'] = ''\n",
    "\n",
    "for i in range(len(merged_df)):\n",
    "    start_idx = i * 48\n",
    "    end_idx = start_idx + 48\n",
    "    embeddings_list = embedding_df.iloc[start_idx:end_idx]['embedding'].tolist()\n",
    "    merged_df.at[i, 'Embeddings'] = embeddings_list"
   ]
  },
  {
   "cell_type": "code",
   "execution_count": 12,
   "metadata": {},
   "outputs": [
    {
     "data": {
      "text/html": [
       "<div>\n",
       "<style scoped>\n",
       "    .dataframe tbody tr th:only-of-type {\n",
       "        vertical-align: middle;\n",
       "    }\n",
       "\n",
       "    .dataframe tbody tr th {\n",
       "        vertical-align: top;\n",
       "    }\n",
       "\n",
       "    .dataframe thead th {\n",
       "        text-align: right;\n",
       "    }\n",
       "</style>\n",
       "<table border=\"1\" class=\"dataframe\">\n",
       "  <thead>\n",
       "    <tr style=\"text-align: right;\">\n",
       "      <th></th>\n",
       "      <th>title</th>\n",
       "      <th>Embeddings</th>\n",
       "    </tr>\n",
       "  </thead>\n",
       "  <tbody>\n",
       "    <tr>\n",
       "      <th>0</th>\n",
       "      <td>List of Supernatural and The Winchesters chara...</td>\n",
       "      <td>[19, 109, 105, 38, 61, 9, 103, 74, 19, 35, 33,...</td>\n",
       "    </tr>\n",
       "    <tr>\n",
       "      <th>1</th>\n",
       "      <td>List of characters in mythology novels by Rick...</td>\n",
       "      <td>[0, 42, 57, 38, 65, 70, 103, 80, 5, 35, 58, 50...</td>\n",
       "    </tr>\n",
       "    <tr>\n",
       "      <th>2</th>\n",
       "      <td>1943 Birthday Honours</td>\n",
       "      <td>[12, 8, 54, 75, 5, 58, 38, 58, 52, 123, 93, 11...</td>\n",
       "    </tr>\n",
       "    <tr>\n",
       "      <th>3</th>\n",
       "      <td>List of people from Illinois</td>\n",
       "      <td>[117, 124, 65, 34, 51, 116, 1, 56, 109, 63, 95...</td>\n",
       "    </tr>\n",
       "    <tr>\n",
       "      <th>4</th>\n",
       "      <td>List of Pokémon anime characters</td>\n",
       "      <td>[56, 5, 14, 75, 63, 119, 46, 69, 55, 27, 14, 1...</td>\n",
       "    </tr>\n",
       "    <tr>\n",
       "      <th>...</th>\n",
       "      <td>...</td>\n",
       "      <td>...</td>\n",
       "    </tr>\n",
       "    <tr>\n",
       "      <th>6593734</th>\n",
       "      <td>List of fictional alien species: U</td>\n",
       "      <td>[125, 84, 29, 93, 10, 102, 24, 16, 111, 38, 62...</td>\n",
       "    </tr>\n",
       "    <tr>\n",
       "      <th>6593735</th>\n",
       "      <td>List of fictional alien species: V</td>\n",
       "      <td>[101, 58, 86, 103, 60, 17, 66, 20, 104, 121, 6...</td>\n",
       "    </tr>\n",
       "    <tr>\n",
       "      <th>6593736</th>\n",
       "      <td>List of fictional alien species: W</td>\n",
       "      <td>[28, 101, 45, 27, 10, 85, 29, 56, 125, 38, 123...</td>\n",
       "    </tr>\n",
       "    <tr>\n",
       "      <th>6593737</th>\n",
       "      <td>List of fictional alien species: X</td>\n",
       "      <td>[46, 84, 118, 54, 24, 2, 78, 66, 57, 35, 84, 7...</td>\n",
       "    </tr>\n",
       "    <tr>\n",
       "      <th>6593738</th>\n",
       "      <td>List of fictional alien species: Y</td>\n",
       "      <td>[64, 61, 20, 67, 20, 120, 83, 123, 117, 27, 84...</td>\n",
       "    </tr>\n",
       "  </tbody>\n",
       "</table>\n",
       "<p>6593739 rows × 2 columns</p>\n",
       "</div>"
      ],
      "text/plain": [
       "                                                     title  \\\n",
       "0        List of Supernatural and The Winchesters chara...   \n",
       "1        List of characters in mythology novels by Rick...   \n",
       "2                                    1943 Birthday Honours   \n",
       "3                             List of people from Illinois   \n",
       "4                         List of Pokémon anime characters   \n",
       "...                                                    ...   \n",
       "6593734                 List of fictional alien species: U   \n",
       "6593735                 List of fictional alien species: V   \n",
       "6593736                 List of fictional alien species: W   \n",
       "6593737                 List of fictional alien species: X   \n",
       "6593738                 List of fictional alien species: Y   \n",
       "\n",
       "                                                Embeddings  \n",
       "0        [19, 109, 105, 38, 61, 9, 103, 74, 19, 35, 33,...  \n",
       "1        [0, 42, 57, 38, 65, 70, 103, 80, 5, 35, 58, 50...  \n",
       "2        [12, 8, 54, 75, 5, 58, 38, 58, 52, 123, 93, 11...  \n",
       "3        [117, 124, 65, 34, 51, 116, 1, 56, 109, 63, 95...  \n",
       "4        [56, 5, 14, 75, 63, 119, 46, 69, 55, 27, 14, 1...  \n",
       "...                                                    ...  \n",
       "6593734  [125, 84, 29, 93, 10, 102, 24, 16, 111, 38, 62...  \n",
       "6593735  [101, 58, 86, 103, 60, 17, 66, 20, 104, 121, 6...  \n",
       "6593736  [28, 101, 45, 27, 10, 85, 29, 56, 125, 38, 123...  \n",
       "6593737  [46, 84, 118, 54, 24, 2, 78, 66, 57, 35, 84, 7...  \n",
       "6593738  [64, 61, 20, 67, 20, 120, 83, 123, 117, 27, 84...  \n",
       "\n",
       "[6593739 rows x 2 columns]"
      ]
     },
     "execution_count": 12,
     "metadata": {},
     "output_type": "execute_result"
    }
   ],
   "source": [
    "merged_df"
   ]
  },
  {
   "cell_type": "code",
   "execution_count": 127,
   "metadata": {},
   "outputs": [],
   "source": [
    "embeddings = np.array(merged_df['Embeddings'].tolist())"
   ]
  },
  {
   "cell_type": "code",
   "execution_count": 14,
   "metadata": {},
   "outputs": [
    {
     "data": {
      "text/plain": [
       "array([[ 19, 109, 105, ...,  98,  87,  38],\n",
       "       [  0,  42,  57, ...,  38,  35,   9],\n",
       "       [ 12,   8,  54, ...,  22,  40,  38],\n",
       "       ...,\n",
       "       [ 28, 101,  45, ...,  56,  24, 107],\n",
       "       [ 46,  84, 118, ...,  28, 104,  47],\n",
       "       [ 64,  61,  20, ..., 101,  75,  47]])"
      ]
     },
     "execution_count": 14,
     "metadata": {},
     "output_type": "execute_result"
    }
   ],
   "source": [
    "embeddings"
   ]
  },
  {
   "cell_type": "code",
   "execution_count": null,
   "metadata": {},
   "outputs": [],
   "source": [
    "#save to use later\n",
    "table = pa.Table.from_pandas(pd.DataFrame(embeddings))  \n",
    "\n",
    "output_path = 'embeddings.arrow'\n",
    "\n",
    "\n",
    "with pa.OSFile(output_path, 'wb') as sink:\n",
    "    with pa.RecordBatchFileWriter(sink, table.schema) as writer:\n",
    "        writer.write_table(table)\n"
   ]
  },
  {
   "cell_type": "code",
   "execution_count": 128,
   "metadata": {},
   "outputs": [],
   "source": [
    "titles = np.array(merged_df['title'].tolist())"
   ]
  },
  {
   "cell_type": "code",
   "execution_count": 16,
   "metadata": {},
   "outputs": [
    {
     "data": {
      "text/plain": [
       "array(['List of Supernatural and The Winchesters characters',\n",
       "       'List of characters in mythology novels by Rick Riordan',\n",
       "       '1943 Birthday Honours', ..., 'List of fictional alien species: W',\n",
       "       'List of fictional alien species: X',\n",
       "       'List of fictional alien species: Y'], dtype='<U251')"
      ]
     },
     "execution_count": 16,
     "metadata": {},
     "output_type": "execute_result"
    }
   ],
   "source": [
    "titles"
   ]
  },
  {
   "cell_type": "code",
   "execution_count": null,
   "metadata": {},
   "outputs": [],
   "source": [
    "#save to use later\n",
    "table = pa.Table.from_pandas(pd.DataFrame(titles))  \n",
    "\n",
    "output_path = 'titles.arrow'\n",
    "\n",
    "\n",
    "with pa.OSFile(output_path, 'wb') as sink:\n",
    "    with pa.RecordBatchFileWriter(sink, table.schema) as writer:\n",
    "        writer.write_table(table)"
   ]
  },
  {
   "cell_type": "code",
   "execution_count": 17,
   "metadata": {},
   "outputs": [
    {
     "name": "stderr",
     "output_type": "stream",
     "text": [
      "/Library/Frameworks/Python.framework/Versions/3.11/lib/python3.11/site-packages/sentence_transformers/cross_encoder/CrossEncoder.py:11: TqdmWarning: IProgress not found. Please update jupyter and ipywidgets. See https://ipywidgets.readthedocs.io/en/stable/user_install.html\n",
      "  from tqdm.autonotebook import tqdm, trange\n",
      "/Library/Frameworks/Python.framework/Versions/3.11/lib/python3.11/site-packages/huggingface_hub/file_download.py:1132: FutureWarning: `resume_download` is deprecated and will be removed in version 1.0.0. Downloads always resume when possible. If you want to force a new download, use `force_download=True`.\n",
      "  warnings.warn(\n"
     ]
    }
   ],
   "source": [
    "from sentence_transformers import SentenceTransformer\n",
    "\n",
    "minilml6v2 = SentenceTransformer(\"sentence-transformers/all-MiniLM-L6-v2\")"
   ]
  },
  {
   "cell_type": "code",
   "execution_count": 64,
   "metadata": {},
   "outputs": [],
   "source": [
    "illuminati_query = minilml6v2.encode(\"illuminati\")"
   ]
  },
  {
   "cell_type": "code",
   "execution_count": 92,
   "metadata": {},
   "outputs": [
    {
     "data": {
      "text/plain": [
       "(384,)"
      ]
     },
     "execution_count": 92,
     "metadata": {},
     "output_type": "execute_result"
    }
   ],
   "source": [
    "illuminati_query.shape"
   ]
  },
  {
   "cell_type": "code",
   "execution_count": 19,
   "metadata": {},
   "outputs": [],
   "source": [
    "import nanopq"
   ]
  },
  {
   "cell_type": "code",
   "execution_count": 20,
   "metadata": {},
   "outputs": [],
   "source": [
    "codewords = np.array(json.loads(Path(\"codewords.json\").read_text()), dtype=np.float32)"
   ]
  },
  {
   "cell_type": "code",
   "execution_count": 21,
   "metadata": {},
   "outputs": [
    {
     "name": "stdout",
     "output_type": "stream",
     "text": [
      "Number of subspaces (cwM): 48\n",
      "Number of codewords per subspace (cwKs): 128\n",
      "Dimensionality of each subspace (cwDs): 8\n"
     ]
    }
   ],
   "source": [
    "(cwM, cwKs, cwDs) = codewords.shape\n",
    "print(f\"Number of subspaces (cwM): {cwM}\")\n",
    "print(f\"Number of codewords per subspace (cwKs): {cwKs}\")\n",
    "print(f\"Dimensionality of each subspace (cwDs): {cwDs}\")"
   ]
  },
  {
   "cell_type": "code",
   "execution_count": 22,
   "metadata": {},
   "outputs": [
    {
     "name": "stdout",
     "output_type": "stream",
     "text": [
      "M: 48, Ks: 128, metric : <class 'numpy.uint8'>, code_dtype: l2\n"
     ]
    }
   ],
   "source": [
    "pq48x7 = nanopq.PQ(M=48, Ks=128)\n",
    "pq48x7.Ds = cwDs"
   ]
  },
  {
   "cell_type": "code",
   "execution_count": 23,
   "metadata": {},
   "outputs": [],
   "source": [
    "pq48x7.codewords = codewords"
   ]
  },
  {
   "cell_type": "code",
   "execution_count": 65,
   "metadata": {},
   "outputs": [
    {
     "name": "stdout",
     "output_type": "stream",
     "text": [
      "['Illuminati (disambiguation)' 'Illuminati in popular culture'\n",
      " 'Illuminati (game)' 'Shadow government (conspiracy theory)'\n",
      " 'GURPS Illuminati' 'Illuminatus of Arce'\n",
      " 'The New World Order (Robertson book)'\n",
      " 'New World Order (conspiracy theory)' 'Illuminati (comics)' 'Illuminati']\n"
     ]
    }
   ],
   "source": [
    "illuminati_dists = pq48x7.dtable(illuminati_query).adist(embeddings)\n",
    "print(titles[np.argsort(illuminati_dists)[0:10]])"
   ]
  },
  {
   "cell_type": "code",
   "execution_count": 70,
   "metadata": {},
   "outputs": [
    {
     "name": "stdout",
     "output_type": "stream",
     "text": [
      "Most Similar Articles to Pink Floyd\n",
      "1. Zabriskie Point (album) (Distance: 0.6241)\n",
      "2. Obscured by Clouds (Distance: 0.6269)\n",
      "3. Pink Floyd (Distance: 0.6321)\n",
      "4. The Endless River (Distance: 0.6544)\n",
      "5. Julia Dream (Distance: 0.6570)\n",
      "6. A Collection of Great Dance Songs (Distance: 0.6615)\n",
      "7. Grantchester Meadows (song) (Distance: 0.6624)\n",
      "8. Yet Another Movie (Distance: 0.6631)\n",
      "9. A Momentary Lapse of Reason (Distance: 0.6649)\n",
      "10. On the Turning Away (Distance: 0.6665)\n"
     ]
    }
   ],
   "source": [
    "def recommend_top10(article_name):\n",
    "    query = minilml6v2.encode(article_name)\n",
    "    \n",
    "\n",
    "    query_dists = pq48x7.dtable(query).adist(embeddings)\n",
    "    top10_indices = np.argsort(query_dists)[:10]\n",
    "    top10_titles = titles[top10_indices]\n",
    "    top10_distances = query_dists[top10_indices]\n",
    "\n",
    "    return top10_titles, top10_distances\n",
    "\n",
    "\n",
    "get_rec = \"Pink Floyd\"\n",
    "top10_articles, top10_distances = recommend_top10(get_rec)\n",
    "\n",
    "print(f\"Most Similar Articles to {get_rec}\")\n",
    "for i, (article, distance) in enumerate(zip(top10_articles, top10_distances), 1):\n",
    "    print(f\"{i}. {article} (Distance: {distance:.4f})\")"
   ]
  },
  {
   "cell_type": "code",
   "execution_count": 76,
   "metadata": {},
   "outputs": [
    {
     "name": "stdout",
     "output_type": "stream",
     "text": [
      "Most Disimilar Articles to Mission Impossible\n",
      "1. Gmina Krajenka (Distance: 1.9882)\n",
      "2. Mrzygłody Lubyckie, Podkarpackie Voivodeship (Distance: 1.9602)\n",
      "3. Zaryte (Distance: 1.9484)\n",
      "4. Gmina Zabrodzie (Distance: 1.9471)\n",
      "5. Krzemów (Distance: 1.9459)\n",
      "6. Zakrzewo, Płock County (Distance: 1.9449)\n",
      "7. Gmina Horyniec-Zdrój (Distance: 1.9442)\n",
      "8. Gmina Krościenko Wyżne (Distance: 1.9406)\n",
      "9. Szreńsk (Distance: 1.9398)\n",
      "10. Bieżyń (Distance: 1.9393)\n"
     ]
    }
   ],
   "source": [
    "def notrecommend_top10(article_name):\n",
    "    query = minilml6v2.encode(article_name)\n",
    "    \n",
    "\n",
    "    query_dists = pq48x7.dtable(query).adist(embeddings)\n",
    "    top10_indices = np.argsort(query_dists)[-10:]\n",
    "    top10_indices = top10_indices[::-1]\n",
    "    top10_titles = titles[top10_indices]\n",
    "    top10_distances = query_dists[top10_indices]\n",
    "\n",
    "    return top10_titles, top10_distances\n",
    "\n",
    "\n",
    "get_rec = \"Mission Impossible\"\n",
    "top10_articles, top10_distances = notrecommend_top10(get_rec)\n",
    "\n",
    "print(f\"Most Disimilar Articles to {get_rec}\")\n",
    "for i, (article, distance) in enumerate(zip(top10_articles, top10_distances), 1):\n",
    "    print(f\"{i}. {article} (Distance: {distance:.4f})\")"
   ]
  },
  {
   "cell_type": "code",
   "execution_count": 116,
   "metadata": {},
   "outputs": [
    {
     "name": "stdout",
     "output_type": "stream",
     "text": [
      "Most Similar Articles to Given Articles\n",
      "1. Hydrogen (Distance: 0.3384)\n",
      "2. Carbon monoxide (Distance: 0.3620)\n",
      "3. Kipp's apparatus (Distance: 0.3667)\n",
      "4. Formic acid (Distance: 0.3760)\n",
      "5. Oxygen compounds (Distance: 0.3786)\n",
      "6. Carbonated water (Distance: 0.3803)\n",
      "7. Amateur chemistry (Distance: 0.3820)\n",
      "8. Scripps Energy & Materials Center (Distance: 0.3834)\n",
      "9. Sodium hypochlorite (Distance: 0.3841)\n",
      "10. Urea nitrate (Distance: 0.3860)\n"
     ]
    }
   ],
   "source": [
    "def aggrecommend_top10(article_list):\n",
    "    article_list_lower = [article.lower() for article in article_list] \n",
    "    encoded_articles = [minilml6v2.encode(article.lower()) for article in article_list_lower]\n",
    "    query = np.mean(encoded_articles, axis=0, keepdims=True)\n",
    "    query = query.flatten()\n",
    "    \n",
    "    query_dists = pq48x7.dtable(query).adist(embeddings)\n",
    "    \n",
    "    top15_indices = np.argsort(query_dists)[:15]\n",
    "\n",
    "    top15_titles = titles[top15_indices]\n",
    "    top15_distances = query_dists[top15_indices]\n",
    "    filtered_top10_titles = []\n",
    "    filtered_top10_distances = []\n",
    "    count = 0\n",
    "    for title, distance in zip(top15_titles, top15_distances):\n",
    "        if title.lower() not in article_list_lower:\n",
    "            filtered_top10_titles.append(title)\n",
    "            filtered_top10_distances.append(distance)\n",
    "            count += 1\n",
    "        if count == 10:\n",
    "            break\n",
    "\n",
    "    return filtered_top10_titles, filtered_top10_distances\n",
    "\n",
    "article_list = [\"Water\", \"Carbon Dioxide\", \"Oxygen\", \"Hydrogen Peroxide\", \"Sodium Chloride\", \"Sulfuric Acid\", \"Acetic Acid\", \"Ammonia\", \"Ethanol\", \"Methane\"]\n",
    "\n",
    "top10_articles, top10_distances = aggrecommend_top10(article_list)\n",
    "\n",
    "print(f\"Most Similar Articles to Given Articles\")\n",
    "for i, (article, distance) in enumerate(zip(top10_articles, top10_distances), 1):\n",
    "    print(f\"{i}. {article} (Distance: {distance:.4f})\")\n"
   ]
  }
 ],
 "metadata": {
  "kernelspec": {
   "display_name": "Python 3",
   "language": "python",
   "name": "python3"
  },
  "language_info": {
   "codemirror_mode": {
    "name": "ipython",
    "version": 3
   },
   "file_extension": ".py",
   "mimetype": "text/x-python",
   "name": "python",
   "nbconvert_exporter": "python",
   "pygments_lexer": "ipython3",
   "version": "3.11.8"
  }
 },
 "nbformat": 4,
 "nbformat_minor": 2
}
